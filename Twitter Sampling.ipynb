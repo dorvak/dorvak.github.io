{
 "metadata": {
  "name": "Twitter Sampling"
 },
 "nbformat": 3,
 "nbformat_minor": 0,
 "worksheets": [
  {
   "cells": [
    {
     "cell_type": "heading",
     "level": 1,
     "metadata": {},
     "source": [
      "Sampling YouTube-Clips from Twitter"
     ]
    },
    {
     "cell_type": "markdown",
     "metadata": {},
     "source": [
      "During the  electoral campaigning for the recent german federal elections in 2013, we decided not just to monitor YouTube-Clips via _classical_ sampling techniques like keyword-searches on YouTube. Therefore, we took advantage of the [cross-pollinated](http://arxiv.org/abs/1301.6932) diffusion processes between Social Network Sites (SNS) like Facebook or - in this case - Twitter:\n",
      "\n",
      "To gain an understanding of which YouTube-Clips are relevant in terms of political participation and discussion on Twitter, we collected Tweets which are related to the federal elections, resolved the URLS within those Tweets and - if an URL linked to a YouTube-Clip - included these Clips in our YouTube-Election sample. This method enables the _early-bird_ detection of (likely) political YouTube-Clips and supplements the more traditional data-collection process via YouTube search terms, channel monitoring or crawling the YouTube-Network of related videoclips\n",
      "\n"
     ]
    },
    {
     "cell_type": "heading",
     "level": 2,
     "metadata": {},
     "source": [
      "Collecting political Tweets via Streaming-API"
     ]
    },
    {
     "cell_type": "markdown",
     "metadata": {},
     "source": [
      "Twitter, as opposed to Facebook as a less accessible SNS in terms of crawling topics, posts and alike, became sort of a favourite toy for the social science/information science etc. To a very large extend, Twitter (comparetivly) open API's and a vast collection of tool/websites to get data out of the system may account for this affinity towards the quite small SNS - when compared to Facebook. However, although Twitter-Users might be completely un-representative, there is a potential of Twitter as an early-warning system, ifnluential intra-media-agenda-setting authority. When dealing with the dissemination of (political) content, [we](http://de.slideshare.net/TillKeyling/nachrichtendiffusion-13207379) can show that news-articles disseminate lamost an order of magnitude faster on Twitter than on Facebook. "
     ]
    },
    {
     "cell_type": "markdown",
     "metadata": {},
     "source": [
      "<img src=\"files/Diffusion_of_ideas_overlay.png\" width=\"30%\",heigth=\"30%\"/> \n",
      "\n",
      "Therefore, we conclude that Twitter is sort of a news-ticker, while Facebook is used for the discussion of links and content within smaller ['personal publics'](http://www.schmidtmitdete.de/english-content). This holds true for the diffusion of audiovisual-content as well: Tweets for YouTube-Clips usually precede the Shares, Likes and Comments on Facebook (see one example above). \n"
     ]
    },
    {
     "cell_type": "markdown",
     "metadata": {},
     "source": [
      "What\u00b4s crucial here and should not be underestimated is the *flow of content* not only *within* SNS, but *across* different online-outlets. These *cross-pollination* process might be triggered by users who uses both multiple networks and once (Studies?) and disseminate content/links  - like bee's transport pollen - into other networks. Of course, users who do create content on platforms like YouTube tend to use Twitter and Facebook (Study) and therefore *pollute* other SNS intentionally (which links to the concept of virality ..). From a more abstract, system-theoretical viewpoint, social or communicative subsystems like Twitter and Facebook observe and react to each other (again, Twitter is more observable than Facebook, f.e.). "
     ]
    },
    {
     "cell_type": "code",
     "collapsed": false,
     "input": [
      "from youtube.tuber import *\n",
      "%pylab"
     ],
     "language": "python",
     "metadata": {},
     "outputs": [
      {
       "output_type": "stream",
       "stream": "stdout",
       "text": [
        "\n",
        "Welcome to pylab, a matplotlib-based Python environment [backend: TkAgg].\n",
        "For more information, type 'help(pylab)'.\n"
       ]
      }
     ],
     "prompt_number": 1
    },
    {
     "cell_type": "code",
     "collapsed": false,
     "input": [],
     "language": "python",
     "metadata": {},
     "outputs": [
      {
       "output_type": "pyout",
       "prompt_number": 84,
       "text": [
        "3004L"
       ]
      }
     ],
     "prompt_number": 84
    }
   ],
   "metadata": {}
  }
 ]
}